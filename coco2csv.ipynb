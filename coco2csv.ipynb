{
 "cells": [
  {
   "cell_type": "code",
   "execution_count": 1,
   "id": "29f3bf35-0374-4fcf-86e7-97f7a92519aa",
   "metadata": {},
   "outputs": [],
   "source": [
    "import os\n",
    "import json\n",
    "import pandas as pd"
   ]
  },
  {
   "cell_type": "code",
   "execution_count": 2,
   "id": "6dca075d-af83-428a-b8a8-8399c4a40179",
   "metadata": {
    "tags": []
   },
   "outputs": [],
   "source": [
    "PATH_TO_FILE = \"/home/me/Projects/Python/coco-annotations-to-csv/annotations/person_keypoints_val2017.json\"\n",
    "with open(PATH_TO_FILE) as json_file:\n",
    "    data = json.load(json_file)"
   ]
  },
  {
   "cell_type": "code",
   "execution_count": 3,
   "id": "7de8b10b-de34-4d56-bc4f-3e484f15bba4",
   "metadata": {
    "tags": []
   },
   "outputs": [],
   "source": [
    "# select all images out of given dataset\n",
    "df_images = pd.DataFrame(data['images'])\n",
    "df_images = df_images.set_index('id')\n",
    "df_images.index.names = ['image_id'] #for merging readability later"
   ]
  },
  {
   "cell_type": "code",
   "execution_count": 4,
   "id": "7ce4f98b-973c-4f6a-9678-0de8dc69bb82",
   "metadata": {
    "tags": []
   },
   "outputs": [],
   "source": [
    "# pull off image metadata\n",
    "df_images_info =  pd.DataFrame(df_images[[\"file_name\",\"width\",\"height\",\"coco_url\"]])\n",
    "df_images_info.columns = [\"image_name\",\"image_width\",\"image_height\",\"image_url\"]"
   ]
  },
  {
   "cell_type": "code",
   "execution_count": 5,
   "id": "4883b4e5-269e-47a8-abbc-64dd6c053fde",
   "metadata": {
    "tags": []
   },
   "outputs": [],
   "source": [
    "# all possible image descriptions eg. bounding boxes\n",
    "df_annotations = pd.DataFrame(data['annotations'])\n",
    "df_annotations = df_annotations.set_index('image_id')"
   ]
  },
  {
   "cell_type": "code",
   "execution_count": 6,
   "id": "15f89b45-8415-4e42-ba39-5fa4a95f2be5",
   "metadata": {
    "tags": []
   },
   "outputs": [],
   "source": [
    "# extract category_id out of each annotation for labeling later\n",
    "df_annotations_category_id = pd.DataFrame(df_annotations[\"category_id\"])\n",
    "\n",
    "# done to keep image_id as primary key for relationship between images and annotations\n",
    "df_annotations_category_id.reset_index(inplace=True)\n",
    "df_annotations_category_id.set_index('category_id', inplace=True)"
   ]
  },
  {
   "cell_type": "code",
   "execution_count": 7,
   "id": "49010116-3f25-43cc-b73b-98a0014fea82",
   "metadata": {},
   "outputs": [],
   "source": [
    "# extract all possible categories of objects present at image eg. persons\n",
    "df_categories = pd.DataFrame(data['categories'], columns=[\"id\",\"name\"])\n",
    "df_categories.set_index('id', inplace=True)"
   ]
  },
  {
   "cell_type": "code",
   "execution_count": 8,
   "id": "150270f0-fe6f-460e-833f-bcaa58063931",
   "metadata": {},
   "outputs": [],
   "source": [
    "df_images_category_name = df_annotations_category_id.join(df_categories)\n",
    "df_images_category_name.set_index('image_id', inplace=True)\n",
    "df_images_category_name.columns = [\"label\"]"
   ]
  },
  {
   "cell_type": "code",
   "execution_count": 9,
   "id": "92d34771-75f2-4105-9d10-c23a6273af73",
   "metadata": {
    "tags": []
   },
   "outputs": [],
   "source": [
    "# pull off image border box coordinates\n",
    "df_bbox = pd.DataFrame(df_annotations['bbox'].values.tolist(), columns=[\"x\",\"y\",\"width\",\"height\"], index=df_annotations.index)"
   ]
  },
  {
   "cell_type": "code",
   "execution_count": 10,
   "id": "6001bb50-f8e1-4f4e-8740-5968b690b45e",
   "metadata": {
    "tags": []
   },
   "outputs": [],
   "source": [
    "# calculate missing bbox corners\n",
    "df_xmax = pd.DataFrame(df_bbox[\"x\"] + df_bbox[\"width\"], columns = [\"x_max\"], index=df_annotations.index)\n",
    "df_ymin = pd.DataFrame(df_bbox[\"y\"] - df_bbox[\"height\"], columns = [\"y_min\"],index=df_annotations.index)"
   ]
  },
  {
   "cell_type": "code",
   "execution_count": 11,
   "id": "33002b3a-a51f-4ec9-8fd9-b4e94a1246f2",
   "metadata": {
    "tags": []
   },
   "outputs": [],
   "source": [
    "# concatenate image corners location\n",
    "df_coords = pd.concat([df_bbox[\"x\"], df_ymin, df_xmax, df_bbox[\"y\"]], axis=1)\n",
    "df_coords.columns = [\"x_min\",\"y_min\",\"x_max\",\"y_max\"]"
   ]
  },
  {
   "cell_type": "code",
   "execution_count": 12,
   "id": "e2019707-a1d5-41a5-806d-706118da9f9d",
   "metadata": {
    "tags": []
   },
   "outputs": [
    {
     "data": {
      "text/html": [
       "<div>\n",
       "<style scoped>\n",
       "    .dataframe tbody tr th:only-of-type {\n",
       "        vertical-align: middle;\n",
       "    }\n",
       "\n",
       "    .dataframe tbody tr th {\n",
       "        vertical-align: top;\n",
       "    }\n",
       "\n",
       "    .dataframe thead th {\n",
       "        text-align: right;\n",
       "    }\n",
       "</style>\n",
       "<table border=\"1\" class=\"dataframe\">\n",
       "  <thead>\n",
       "    <tr style=\"text-align: right;\">\n",
       "      <th></th>\n",
       "      <th>label</th>\n",
       "      <th>image_name</th>\n",
       "      <th>image_width</th>\n",
       "      <th>image_height</th>\n",
       "      <th>x_min</th>\n",
       "      <th>y_min</th>\n",
       "      <th>x_max</th>\n",
       "      <th>y_max</th>\n",
       "      <th>image_url</th>\n",
       "    </tr>\n",
       "    <tr>\n",
       "      <th>image_id</th>\n",
       "      <th></th>\n",
       "      <th></th>\n",
       "      <th></th>\n",
       "      <th></th>\n",
       "      <th></th>\n",
       "      <th></th>\n",
       "      <th></th>\n",
       "      <th></th>\n",
       "      <th></th>\n",
       "    </tr>\n",
       "  </thead>\n",
       "  <tbody>\n",
       "    <tr>\n",
       "      <th>425226</th>\n",
       "      <td>person</td>\n",
       "      <td>000000425226.jpg</td>\n",
       "      <td>480</td>\n",
       "      <td>640</td>\n",
       "      <td>73.35</td>\n",
       "      <td>-166.48</td>\n",
       "      <td>373.93</td>\n",
       "      <td>206.02</td>\n",
       "      <td>http://images.cocodataset.org/val2017/00000042...</td>\n",
       "    </tr>\n",
       "    <tr>\n",
       "      <th>440475</th>\n",
       "      <td>person</td>\n",
       "      <td>000000440475.jpg</td>\n",
       "      <td>640</td>\n",
       "      <td>427</td>\n",
       "      <td>491.91</td>\n",
       "      <td>110.11</td>\n",
       "      <td>526.76</td>\n",
       "      <td>183.51</td>\n",
       "      <td>http://images.cocodataset.org/val2017/00000044...</td>\n",
       "    </tr>\n",
       "    <tr>\n",
       "      <th>266400</th>\n",
       "      <td>person</td>\n",
       "      <td>000000266400.jpg</td>\n",
       "      <td>640</td>\n",
       "      <td>396</td>\n",
       "      <td>36.32</td>\n",
       "      <td>-53.27</td>\n",
       "      <td>74.88</td>\n",
       "      <td>0.59</td>\n",
       "      <td>http://images.cocodataset.org/val2017/00000026...</td>\n",
       "    </tr>\n",
       "    <tr>\n",
       "      <th>266400</th>\n",
       "      <td>person</td>\n",
       "      <td>000000266400.jpg</td>\n",
       "      <td>640</td>\n",
       "      <td>396</td>\n",
       "      <td>0.00</td>\n",
       "      <td>-137.52</td>\n",
       "      <td>15.09</td>\n",
       "      <td>0.99</td>\n",
       "      <td>http://images.cocodataset.org/val2017/00000026...</td>\n",
       "    </tr>\n",
       "    <tr>\n",
       "      <th>69213</th>\n",
       "      <td>person</td>\n",
       "      <td>000000069213.jpg</td>\n",
       "      <td>640</td>\n",
       "      <td>427</td>\n",
       "      <td>276.35</td>\n",
       "      <td>-390.53</td>\n",
       "      <td>521.04</td>\n",
       "      <td>9.60</td>\n",
       "      <td>http://images.cocodataset.org/val2017/00000006...</td>\n",
       "    </tr>\n",
       "    <tr>\n",
       "      <th>...</th>\n",
       "      <td>...</td>\n",
       "      <td>...</td>\n",
       "      <td>...</td>\n",
       "      <td>...</td>\n",
       "      <td>...</td>\n",
       "      <td>...</td>\n",
       "      <td>...</td>\n",
       "      <td>...</td>\n",
       "      <td>...</td>\n",
       "    </tr>\n",
       "    <tr>\n",
       "      <th>351096</th>\n",
       "      <td>person</td>\n",
       "      <td>000000351096.jpg</td>\n",
       "      <td>500</td>\n",
       "      <td>375</td>\n",
       "      <td>0.00</td>\n",
       "      <td>68.19</td>\n",
       "      <td>100.32</td>\n",
       "      <td>219.16</td>\n",
       "      <td>http://images.cocodataset.org/val2017/00000035...</td>\n",
       "    </tr>\n",
       "    <tr>\n",
       "      <th>2431</th>\n",
       "      <td>person</td>\n",
       "      <td>000000002431.jpg</td>\n",
       "      <td>457</td>\n",
       "      <td>640</td>\n",
       "      <td>102.61</td>\n",
       "      <td>-120.68</td>\n",
       "      <td>204.77</td>\n",
       "      <td>0.00</td>\n",
       "      <td>http://images.cocodataset.org/val2017/00000000...</td>\n",
       "    </tr>\n",
       "    <tr>\n",
       "      <th>2431</th>\n",
       "      <td>person</td>\n",
       "      <td>000000002431.jpg</td>\n",
       "      <td>457</td>\n",
       "      <td>640</td>\n",
       "      <td>0.00</td>\n",
       "      <td>-135.90</td>\n",
       "      <td>80.53</td>\n",
       "      <td>0.00</td>\n",
       "      <td>http://images.cocodataset.org/val2017/00000000...</td>\n",
       "    </tr>\n",
       "    <tr>\n",
       "      <th>251824</th>\n",
       "      <td>person</td>\n",
       "      <td>000000251824.jpg</td>\n",
       "      <td>500</td>\n",
       "      <td>375</td>\n",
       "      <td>0.00</td>\n",
       "      <td>-160.65</td>\n",
       "      <td>500.00</td>\n",
       "      <td>104.98</td>\n",
       "      <td>http://images.cocodataset.org/val2017/00000025...</td>\n",
       "    </tr>\n",
       "    <tr>\n",
       "      <th>394940</th>\n",
       "      <td>person</td>\n",
       "      <td>000000394940.jpg</td>\n",
       "      <td>426</td>\n",
       "      <td>640</td>\n",
       "      <td>0.00</td>\n",
       "      <td>-336.48</td>\n",
       "      <td>425.79</td>\n",
       "      <td>77.18</td>\n",
       "      <td>http://images.cocodataset.org/val2017/00000039...</td>\n",
       "    </tr>\n",
       "  </tbody>\n",
       "</table>\n",
       "<p>11004 rows × 9 columns</p>\n",
       "</div>"
      ],
      "text/plain": [
       "           label        image_name  image_width  image_height   x_min   y_min  \\\n",
       "image_id                                                                        \n",
       "425226    person  000000425226.jpg          480           640   73.35 -166.48   \n",
       "440475    person  000000440475.jpg          640           427  491.91  110.11   \n",
       "266400    person  000000266400.jpg          640           396   36.32  -53.27   \n",
       "266400    person  000000266400.jpg          640           396    0.00 -137.52   \n",
       "69213     person  000000069213.jpg          640           427  276.35 -390.53   \n",
       "...          ...               ...          ...           ...     ...     ...   \n",
       "351096    person  000000351096.jpg          500           375    0.00   68.19   \n",
       "2431      person  000000002431.jpg          457           640  102.61 -120.68   \n",
       "2431      person  000000002431.jpg          457           640    0.00 -135.90   \n",
       "251824    person  000000251824.jpg          500           375    0.00 -160.65   \n",
       "394940    person  000000394940.jpg          426           640    0.00 -336.48   \n",
       "\n",
       "           x_max   y_max                                          image_url  \n",
       "image_id                                                                     \n",
       "425226    373.93  206.02  http://images.cocodataset.org/val2017/00000042...  \n",
       "440475    526.76  183.51  http://images.cocodataset.org/val2017/00000044...  \n",
       "266400     74.88    0.59  http://images.cocodataset.org/val2017/00000026...  \n",
       "266400     15.09    0.99  http://images.cocodataset.org/val2017/00000026...  \n",
       "69213     521.04    9.60  http://images.cocodataset.org/val2017/00000006...  \n",
       "...          ...     ...                                                ...  \n",
       "351096    100.32  219.16  http://images.cocodataset.org/val2017/00000035...  \n",
       "2431      204.77    0.00  http://images.cocodataset.org/val2017/00000000...  \n",
       "2431       80.53    0.00  http://images.cocodataset.org/val2017/00000000...  \n",
       "251824    500.00  104.98  http://images.cocodataset.org/val2017/00000025...  \n",
       "394940    425.79   77.18  http://images.cocodataset.org/val2017/00000039...  \n",
       "\n",
       "[11004 rows x 9 columns]"
      ]
     },
     "execution_count": 12,
     "metadata": {},
     "output_type": "execute_result"
    }
   ],
   "source": [
    "# merge all dataframes to one\n",
    "df_labeled_with_info = pd.merge(df_images_category_name, df_images_info, on=['image_id'])\n",
    "df_to_export = pd.merge(df_labeled_with_info, df_coords, on=['image_id'])\n",
    "\n",
    "# ensuring that columns order is as requested, you can safely change columns order below \n",
    "# !WARNING! may be computation expensive - could alsoe be done also by single poping/inserting - only image_url is not at position\n",
    "final_columns_order = [\"label\",\"image_name\",\"image_width\",\"image_height\",\"x_min\",\"y_min\",\"x_max\",\"y_max\",\"image_url\"]\n",
    "df_to_export = df_to_export.reindex(columns = final_columns_order, copy=False)\n",
    "df_to_export.drop_duplicates(inplace=True)\n",
    "df_to_export"
   ]
  },
  {
   "cell_type": "code",
   "execution_count": null,
   "id": "d5187450-93e8-450f-a86d-4875b57949b5",
   "metadata": {},
   "outputs": [],
   "source": []
  }
 ],
 "metadata": {
  "kernelspec": {
   "display_name": "Python 3 (ipykernel)",
   "language": "python",
   "name": "python3"
  },
  "language_info": {
   "codemirror_mode": {
    "name": "ipython",
    "version": 3
   },
   "file_extension": ".py",
   "mimetype": "text/x-python",
   "name": "python",
   "nbconvert_exporter": "python",
   "pygments_lexer": "ipython3",
   "version": "3.8.10"
  }
 },
 "nbformat": 4,
 "nbformat_minor": 5
}
